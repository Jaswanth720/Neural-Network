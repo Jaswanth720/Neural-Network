{
 "cells": [
  {
   "cell_type": "code",
   "execution_count": 48,
   "metadata": {},
   "outputs": [],
   "source": [
    "import pandas as pd\n",
    "import numpy as np"
   ]
  },
  {
   "cell_type": "code",
   "execution_count": 49,
   "metadata": {},
   "outputs": [],
   "source": [
    "data = pd.read_csv(\"results_weka.csv\")"
   ]
  },
  {
   "cell_type": "code",
   "execution_count": 50,
   "metadata": {},
   "outputs": [
    {
     "data": {
      "text/html": [
       "<div>\n",
       "<style scoped>\n",
       "    .dataframe tbody tr th:only-of-type {\n",
       "        vertical-align: middle;\n",
       "    }\n",
       "\n",
       "    .dataframe tbody tr th {\n",
       "        vertical-align: top;\n",
       "    }\n",
       "\n",
       "    .dataframe thead th {\n",
       "        text-align: right;\n",
       "    }\n",
       "</style>\n",
       "<table border=\"1\" class=\"dataframe\">\n",
       "  <thead>\n",
       "    <tr style=\"text-align: right;\">\n",
       "      <th></th>\n",
       "      <th>inst#</th>\n",
       "      <th>actual</th>\n",
       "      <th>predicted</th>\n",
       "      <th>error</th>\n",
       "    </tr>\n",
       "  </thead>\n",
       "  <tbody>\n",
       "    <tr>\n",
       "      <th>0</th>\n",
       "      <td>1</td>\n",
       "      <td>1</td>\n",
       "      <td>1.010</td>\n",
       "      <td>0.010</td>\n",
       "    </tr>\n",
       "    <tr>\n",
       "      <th>1</th>\n",
       "      <td>2</td>\n",
       "      <td>5</td>\n",
       "      <td>4.968</td>\n",
       "      <td>-0.032</td>\n",
       "    </tr>\n",
       "    <tr>\n",
       "      <th>2</th>\n",
       "      <td>3</td>\n",
       "      <td>5</td>\n",
       "      <td>4.968</td>\n",
       "      <td>-0.032</td>\n",
       "    </tr>\n",
       "    <tr>\n",
       "      <th>3</th>\n",
       "      <td>4</td>\n",
       "      <td>1</td>\n",
       "      <td>1.009</td>\n",
       "      <td>0.009</td>\n",
       "    </tr>\n",
       "    <tr>\n",
       "      <th>4</th>\n",
       "      <td>5</td>\n",
       "      <td>1</td>\n",
       "      <td>1.009</td>\n",
       "      <td>0.009</td>\n",
       "    </tr>\n",
       "  </tbody>\n",
       "</table>\n",
       "</div>"
      ],
      "text/plain": [
       "   inst#  actual  predicted  error\n",
       "0      1       1      1.010  0.010\n",
       "1      2       5      4.968 -0.032\n",
       "2      3       5      4.968 -0.032\n",
       "3      4       1      1.009  0.009\n",
       "4      5       1      1.009  0.009"
      ]
     },
     "execution_count": 50,
     "metadata": {},
     "output_type": "execute_result"
    }
   ],
   "source": [
    "data.head()"
   ]
  },
  {
   "cell_type": "code",
   "execution_count": 51,
   "metadata": {},
   "outputs": [],
   "source": [
    "# data = data[['actual','predicted']]"
   ]
  },
  {
   "cell_type": "code",
   "execution_count": 52,
   "metadata": {},
   "outputs": [
    {
     "data": {
      "text/plain": [
       "pandas.core.series.Series"
      ]
     },
     "execution_count": 52,
     "metadata": {},
     "output_type": "execute_result"
    }
   ],
   "source": [
    "data['predicted'] = data['predicted'].astype(float)\n",
    "type(data['predicted'])"
   ]
  },
  {
   "cell_type": "code",
   "execution_count": 55,
   "metadata": {},
   "outputs": [
    {
     "name": "stderr",
     "output_type": "stream",
     "text": [
      "/Users/jash/anaconda3/lib/python3.7/site-packages/ipykernel_launcher.py:3: SettingWithCopyWarning: \n",
      "A value is trying to be set on a copy of a slice from a DataFrame\n",
      "\n",
      "See the caveats in the documentation: http://pandas.pydata.org/pandas-docs/stable/indexing.html#indexing-view-versus-copy\n",
      "  This is separate from the ipykernel package so we can avoid doing imports until\n",
      "/Users/jash/anaconda3/lib/python3.7/site-packages/ipykernel_launcher.py:6: SettingWithCopyWarning: \n",
      "A value is trying to be set on a copy of a slice from a DataFrame\n",
      "\n",
      "See the caveats in the documentation: http://pandas.pydata.org/pandas-docs/stable/indexing.html#indexing-view-versus-copy\n",
      "  \n"
     ]
    }
   ],
   "source": [
    "for index, row in data.iterrows():\n",
    "    if data['predicted'][index] <= 2.5:\n",
    "        data['predicted'][index] = 1\n",
    "    \n",
    "    elif data['predicted'][index] > 2.5:\n",
    "        data['predicted'][index] = 5\n",
    "data.head()\n",
    "data['predicted'] = data['predicted'].astype(int)"
   ]
  },
  {
   "cell_type": "code",
   "execution_count": 63,
   "metadata": {},
   "outputs": [],
   "source": [
    "def ind_acc(a,dataframe):\n",
    "    correctly_classified = 0\n",
    "    total_occurances = 0\n",
    "    \n",
    "    for index, row in dataframe.iterrows():\n",
    "        if ((dataframe.iloc[index]['predicted'] == a) and (dataframe.iloc[index]['actual'] == a)):\n",
    "            correctly_classified += 1\n",
    "                       \n",
    "    total_occurances = (dataframe['actual'] == a).sum()\n",
    "    \n",
    "    accuracy = ((correctly_classified) /total_occurances) * 100\n",
    "    print(\"correctly predicted count of\",a, \" =\",  correctly_classified)\n",
    "    print(\"total occurances of\",a,\"=\", total_occurances)\n",
    "    print(\"accuracy of predicting\",a,\"=\", accuracy)\n",
    "    return"
   ]
  },
  {
   "cell_type": "code",
   "execution_count": 69,
   "metadata": {},
   "outputs": [],
   "source": [
    "def overall_accuracy(dataframe):\n",
    "    correctly_classified = 0\n",
    "    \n",
    "    for index, row in dataframe.iterrows():\n",
    "        if (dataframe.iloc[index]['predicted'] == dataframe.iloc[index]['actual'] ):\n",
    "            correctly_classified += 1\n",
    "                       \n",
    "    \n",
    "    accuracy = ((correctly_classified) /(len(dataframe))) * 100\n",
    "    print(\"Total count of correctly classified = \", correctly_classified)\n",
    "    print(\"Total number of examples = \",len(dataframe))\n",
    "    print(\"Overall accuracy of the model = \",accuracy)\n",
    "    return"
   ]
  },
  {
   "cell_type": "code",
   "execution_count": 64,
   "metadata": {},
   "outputs": [
    {
     "name": "stdout",
     "output_type": "stream",
     "text": [
      "correctly predicted count of 1  = 254\n",
      "total occurances of 1 = 264\n",
      "accuracy of predicting 1 = 96.21212121212122\n"
     ]
    }
   ],
   "source": [
    "accuracy_1 = ind_acc(1,data)\n",
    "accuracy_1"
   ]
  },
  {
   "cell_type": "code",
   "execution_count": 65,
   "metadata": {},
   "outputs": [
    {
     "name": "stdout",
     "output_type": "stream",
     "text": [
      "correctly predicted count of 5  = 160\n",
      "total occurances of 5 = 160\n",
      "accuracy of predicting 5 = 100.0\n"
     ]
    }
   ],
   "source": [
    "accuracy_5 = ind_acc(5,data)\n",
    "accuracy_5"
   ]
  },
  {
   "cell_type": "code",
   "execution_count": 70,
   "metadata": {},
   "outputs": [
    {
     "name": "stdout",
     "output_type": "stream",
     "text": [
      "Total count of correctly classified =  414\n",
      "Total number of examples =  424\n",
      "Overall accuracy of the model =  97.64150943396226\n"
     ]
    }
   ],
   "source": [
    "overall_accu = overall_accuracy(data)\n"
   ]
  },
  {
   "cell_type": "code",
   "execution_count": 82,
   "metadata": {},
   "outputs": [
    {
     "name": "stdout",
     "output_type": "stream",
     "text": [
      "[[254   0]\n",
      " [ 10 160]]\n"
     ]
    }
   ],
   "source": [
    "from sklearn.metrics import confusion_matrix\n",
    "cf = confusion_matrix(data['actual'], data['predicted'], labels=[1,5])\n",
    "print(np.transpose(cf))"
   ]
  }
 ],
 "metadata": {
  "kernelspec": {
   "display_name": "Python 3",
   "language": "python",
   "name": "python3"
  },
  "language_info": {
   "codemirror_mode": {
    "name": "ipython",
    "version": 3
   },
   "file_extension": ".py",
   "mimetype": "text/x-python",
   "name": "python",
   "nbconvert_exporter": "python",
   "pygments_lexer": "ipython3",
   "version": "3.7.3"
  }
 },
 "nbformat": 4,
 "nbformat_minor": 2
}
