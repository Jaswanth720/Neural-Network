{
 "cells": [
  {
   "cell_type": "markdown",
   "metadata": {},
   "source": [
    "# Import Packages"
   ]
  },
  {
   "cell_type": "code",
   "execution_count": 199,
   "metadata": {},
   "outputs": [
    {
     "name": "stderr",
     "output_type": "stream",
     "text": [
      "c:\\users\\jashw\\miniconda3\\lib\\site-packages\\ipykernel_launcher.py:10: UserWarning: matplotlib.pyplot as already been imported, this call will have no effect.\n",
      "  # Remove the CWD from sys.path while we load stuff.\n"
     ]
    }
   ],
   "source": [
    "import csv\n",
    "import pandas as pd\n",
    "import numpy as np\n",
    "import statsmodels.api as sm\n",
    "from sklearn import linear_model\n",
    "from sklearn.linear_model import LinearRegression\n",
    "from sklearn.metrics import r2_score\n",
    "from scipy import stats\n",
    "import matplotlib\n",
    "matplotlib.use('qt5agg')\n",
    "import matplotlib.pyplot as plt\n",
    "import seaborn\n",
    "import math"
   ]
  },
  {
   "cell_type": "markdown",
   "metadata": {},
   "source": [
    "# Loading Data"
   ]
  },
  {
   "cell_type": "code",
   "execution_count": 200,
   "metadata": {},
   "outputs": [
    {
     "data": {
      "text/html": [
       "<div>\n",
       "<style scoped>\n",
       "    .dataframe tbody tr th:only-of-type {\n",
       "        vertical-align: middle;\n",
       "    }\n",
       "\n",
       "    .dataframe tbody tr th {\n",
       "        vertical-align: top;\n",
       "    }\n",
       "\n",
       "    .dataframe thead th {\n",
       "        text-align: right;\n",
       "    }\n",
       "</style>\n",
       "<table border=\"1\" class=\"dataframe\">\n",
       "  <thead>\n",
       "    <tr style=\"text-align: right;\">\n",
       "      <th></th>\n",
       "      <th>Name</th>\n",
       "      <th>Manuf</th>\n",
       "      <th>Type</th>\n",
       "      <th>Calories</th>\n",
       "      <th>Protein</th>\n",
       "      <th>Fat</th>\n",
       "      <th>Sodium</th>\n",
       "      <th>Fiber</th>\n",
       "      <th>Carbo</th>\n",
       "      <th>Sugars</th>\n",
       "      <th>...</th>\n",
       "      <th>Weight</th>\n",
       "      <th>Cups</th>\n",
       "      <th>Rating</th>\n",
       "      <th>Cold</th>\n",
       "      <th>Nabisco</th>\n",
       "      <th>Quaker</th>\n",
       "      <th>Kelloggs</th>\n",
       "      <th>GeneralMills</th>\n",
       "      <th>Ralston</th>\n",
       "      <th>AHFP</th>\n",
       "    </tr>\n",
       "  </thead>\n",
       "  <tbody>\n",
       "    <tr>\n",
       "      <th>0</th>\n",
       "      <td>100%_Bran</td>\n",
       "      <td>N</td>\n",
       "      <td>C</td>\n",
       "      <td>70</td>\n",
       "      <td>4</td>\n",
       "      <td>1</td>\n",
       "      <td>130</td>\n",
       "      <td>10.0</td>\n",
       "      <td>5.0</td>\n",
       "      <td>6.0</td>\n",
       "      <td>...</td>\n",
       "      <td>1.0</td>\n",
       "      <td>0.33</td>\n",
       "      <td>68.402973</td>\n",
       "      <td>1</td>\n",
       "      <td>1</td>\n",
       "      <td>0</td>\n",
       "      <td>0</td>\n",
       "      <td>0</td>\n",
       "      <td>0</td>\n",
       "      <td>0</td>\n",
       "    </tr>\n",
       "    <tr>\n",
       "      <th>1</th>\n",
       "      <td>100%_Natural_Bran</td>\n",
       "      <td>Q</td>\n",
       "      <td>C</td>\n",
       "      <td>120</td>\n",
       "      <td>3</td>\n",
       "      <td>5</td>\n",
       "      <td>15</td>\n",
       "      <td>2.0</td>\n",
       "      <td>8.0</td>\n",
       "      <td>8.0</td>\n",
       "      <td>...</td>\n",
       "      <td>1.0</td>\n",
       "      <td>1.00</td>\n",
       "      <td>33.983679</td>\n",
       "      <td>1</td>\n",
       "      <td>0</td>\n",
       "      <td>1</td>\n",
       "      <td>0</td>\n",
       "      <td>0</td>\n",
       "      <td>0</td>\n",
       "      <td>0</td>\n",
       "    </tr>\n",
       "    <tr>\n",
       "      <th>2</th>\n",
       "      <td>All-Bran</td>\n",
       "      <td>K</td>\n",
       "      <td>C</td>\n",
       "      <td>70</td>\n",
       "      <td>4</td>\n",
       "      <td>1</td>\n",
       "      <td>260</td>\n",
       "      <td>9.0</td>\n",
       "      <td>7.0</td>\n",
       "      <td>5.0</td>\n",
       "      <td>...</td>\n",
       "      <td>1.0</td>\n",
       "      <td>0.33</td>\n",
       "      <td>59.425505</td>\n",
       "      <td>1</td>\n",
       "      <td>0</td>\n",
       "      <td>0</td>\n",
       "      <td>1</td>\n",
       "      <td>0</td>\n",
       "      <td>0</td>\n",
       "      <td>0</td>\n",
       "    </tr>\n",
       "    <tr>\n",
       "      <th>3</th>\n",
       "      <td>All-Bran_with_Extra_Fiber</td>\n",
       "      <td>K</td>\n",
       "      <td>C</td>\n",
       "      <td>50</td>\n",
       "      <td>4</td>\n",
       "      <td>0</td>\n",
       "      <td>140</td>\n",
       "      <td>14.0</td>\n",
       "      <td>8.0</td>\n",
       "      <td>0.0</td>\n",
       "      <td>...</td>\n",
       "      <td>1.0</td>\n",
       "      <td>0.50</td>\n",
       "      <td>93.704912</td>\n",
       "      <td>1</td>\n",
       "      <td>0</td>\n",
       "      <td>0</td>\n",
       "      <td>1</td>\n",
       "      <td>0</td>\n",
       "      <td>0</td>\n",
       "      <td>0</td>\n",
       "    </tr>\n",
       "    <tr>\n",
       "      <th>4</th>\n",
       "      <td>Almond_Delight</td>\n",
       "      <td>R</td>\n",
       "      <td>C</td>\n",
       "      <td>110</td>\n",
       "      <td>2</td>\n",
       "      <td>2</td>\n",
       "      <td>200</td>\n",
       "      <td>1.0</td>\n",
       "      <td>14.0</td>\n",
       "      <td>8.0</td>\n",
       "      <td>...</td>\n",
       "      <td>1.0</td>\n",
       "      <td>0.75</td>\n",
       "      <td>34.384843</td>\n",
       "      <td>1</td>\n",
       "      <td>0</td>\n",
       "      <td>0</td>\n",
       "      <td>0</td>\n",
       "      <td>0</td>\n",
       "      <td>1</td>\n",
       "      <td>0</td>\n",
       "    </tr>\n",
       "  </tbody>\n",
       "</table>\n",
       "<p>5 rows × 23 columns</p>\n",
       "</div>"
      ],
      "text/plain": [
       "                         Name Manuf Type  Calories  Protein  Fat  Sodium  \\\n",
       "0                  100%_Bran     N    C         70        4    1     130   \n",
       "1          100%_Natural_Bran     Q    C        120        3    5      15   \n",
       "2                   All-Bran     K    C         70        4    1     260   \n",
       "3  All-Bran_with_Extra_Fiber     K    C         50        4    0     140   \n",
       "4             Almond_Delight     R    C        110        2    2     200   \n",
       "\n",
       "   Fiber  Carbo  Sugars  ...   Weight  Cups     Rating  Cold  Nabisco  Quaker  \\\n",
       "0   10.0    5.0     6.0  ...      1.0  0.33  68.402973     1        1       0   \n",
       "1    2.0    8.0     8.0  ...      1.0  1.00  33.983679     1        0       1   \n",
       "2    9.0    7.0     5.0  ...      1.0  0.33  59.425505     1        0       0   \n",
       "3   14.0    8.0     0.0  ...      1.0  0.50  93.704912     1        0       0   \n",
       "4    1.0   14.0     8.0  ...      1.0  0.75  34.384843     1        0       0   \n",
       "\n",
       "   Kelloggs  GeneralMills  Ralston  AHFP  \n",
       "0         0             0        0     0  \n",
       "1         0             0        0     0  \n",
       "2         1             0        0     0  \n",
       "3         1             0        0     0  \n",
       "4         0             0        1     0  \n",
       "\n",
       "[5 rows x 23 columns]"
      ]
     },
     "execution_count": 200,
     "metadata": {},
     "output_type": "execute_result"
    }
   ],
   "source": [
    "cereals = pd.read_csv(\"D:/WSU/Neural Network/Neural-Network/Cereals.csv\")\n",
    "cereals.head()"
   ]
  },
  {
   "cell_type": "markdown",
   "metadata": {},
   "source": [
    "# Data Cleaning"
   ]
  },
  {
   "cell_type": "code",
   "execution_count": 201,
   "metadata": {},
   "outputs": [],
   "source": [
    "# To clear the null values in the dataframe\n",
    "cereals.fillna(cereals.mean())\n",
    "cereals['Sugars'].fillna((cereals['Sugars'].mean()), inplace=True)"
   ]
  },
  {
   "cell_type": "code",
   "execution_count": 202,
   "metadata": {},
   "outputs": [
    {
     "data": {
      "text/plain": [
       "False"
      ]
     },
     "execution_count": 202,
     "metadata": {},
     "output_type": "execute_result"
    }
   ],
   "source": [
    "#Clear null values in sugar\n",
    "cereals['Sugars'].isnull().values.any()\n"
   ]
  },
  {
   "cell_type": "code",
   "execution_count": 203,
   "metadata": {},
   "outputs": [
    {
     "data": {
      "text/plain": [
       "False"
      ]
     },
     "execution_count": 203,
     "metadata": {},
     "output_type": "execute_result"
    }
   ],
   "source": [
    "#Clear null values in Rating\n",
    "cereals['Rating'].isnull().values.any()\n"
   ]
  },
  {
   "cell_type": "code",
   "execution_count": 204,
   "metadata": {},
   "outputs": [
    {
     "data": {
      "text/plain": [
       "False"
      ]
     },
     "execution_count": 204,
     "metadata": {},
     "output_type": "execute_result"
    }
   ],
   "source": [
    "#Clear null values in Fiber\n",
    "cereals['Fiber'].isnull().values.any()"
   ]
  },
  {
   "cell_type": "code",
   "execution_count": 205,
   "metadata": {},
   "outputs": [],
   "source": [
    "#Extracting the predictors and response variables from dataset\n",
    "x_sugar = cereals['Sugars'].values.reshape((-1, 1))\n",
    "x_fiber = cereals['Fiber'].values.reshape((-1, 1))\n",
    "y_rating = cereals['Rating'].values.reshape((-1, 1))"
   ]
  },
  {
   "cell_type": "markdown",
   "metadata": {},
   "source": [
    "# Defining The Model"
   ]
  },
  {
   "cell_type": "code",
   "execution_count": 206,
   "metadata": {},
   "outputs": [],
   "source": [
    "#Linear regression model for entire data on Sugar and Rating\n",
    "model = LinearRegression()\n",
    "result_sugar = model.fit(x_sugar, y_rating)\n"
   ]
  },
  {
   "cell_type": "code",
   "execution_count": 207,
   "metadata": {},
   "outputs": [],
   "source": [
    "model = LinearRegression()\n",
    "result_fiber = model.fit(x_fiber, y_rating)"
   ]
  },
  {
   "cell_type": "code",
   "execution_count": 208,
   "metadata": {},
   "outputs": [],
   "source": [
    "x_multi_linear = cereals[['Sugars', 'Fiber']]\n",
    "multi_linear = linear_model.LinearRegression()\n",
    "result_multi = multi_linear.fit(x_multi_linear, y_rating)"
   ]
  },
  {
   "cell_type": "code",
   "execution_count": 209,
   "metadata": {},
   "outputs": [],
   "source": [
    "x_multi_linear_fat = cereals[['Sugars', 'Fiber', 'Fat' ]]\n",
    "multi_linear_fat = linear_model.LinearRegression()\n",
    "result_multi_fat = multi_linear_fat.fit(x_multi_linear_fat, y_rating)"
   ]
  },
  {
   "cell_type": "code",
   "execution_count": 210,
   "metadata": {},
   "outputs": [],
   "source": [
    "x_multi_linear_protein = cereals[['Sugars', 'Fiber', 'Protein']]\n",
    "multi_linear_protein = linear_model.LinearRegression()\n",
    "result_multi_protein = multi_linear_protein.fit(x_multi_linear_protein, y_rating)"
   ]
  },
  {
   "cell_type": "code",
   "execution_count": 211,
   "metadata": {},
   "outputs": [],
   "source": [
    "x_multi_linear_sodium = cereals[['Sugars', 'Fiber', 'Sodium']]\n",
    "multi_linear_sodium = linear_model.LinearRegression()\n",
    "result_multi_sodium = multi_linear_sodium.fit(x_multi_linear_sodium, y_rating)\n"
   ]
  },
  {
   "cell_type": "code",
   "execution_count": 212,
   "metadata": {},
   "outputs": [],
   "source": [
    "class Linear_regression:\n",
    "    \n",
    "    def __init__(self, x, y, model):\n",
    "        self.data = x\n",
    "        self.target = y\n",
    "        self.model = model\n",
    "        ## degrees of freedom population dep. variable variance\n",
    "        self._dft = x.shape[0] - 1   \n",
    "        ## degrees of freedom population error variance\n",
    "        self._dfe = x.shape[0] - x.shape[1] - 1  \n",
    "    \n",
    "    def sse(self):\n",
    "        '''returns sum of squared errors (model vs actual)'''\n",
    "        squared_errors = (self.target - self.model.predict(self.data)) ** 2\n",
    "        return np.sum(squared_errors)\n",
    "        \n",
    "    def sst(self):\n",
    "        '''returns total sum of squared errors (actual vs avg(actual))'''\n",
    "        avg_y = np.mean(self.target)\n",
    "        squared_errors = (self.target - avg_y) ** 2\n",
    "        return np.sum(squared_errors)\n",
    "    \n",
    "    def ssr(self):\n",
    "        return (self.sst() - self.sse())\n",
    "    \n",
    "    def r_squared(self):\n",
    "        '''returns calculated value of r^2'''\n",
    "        return ((1 - self.sse()/self.sst())*100)\n",
    "    \n",
    "    def adj_r_squared(self):\n",
    "        '''returns calculated value of adjusted r^2'''\n",
    "        return ((1 - (self.sse()/self._dfe) / (self.sst()/self._dft))*100)\n",
    "    \n",
    "    def bias(self):\n",
    "        intercept = self.model.intercept_\n",
    "        return(np.sum(intercept))\n",
    "    \n",
    "    def slope(self):\n",
    "        slope = self.model.coef_\n",
    "        return(np.sum(slope))\n",
    "    \n",
    "    def see(self):\n",
    "        N = len(self.data)\n",
    "        ss = self.sse()/N\n",
    "        s_est = math.sqrt(ss)\n",
    "        return(s_est)\n",
    "        "
   ]
  },
  {
   "cell_type": "code",
   "execution_count": 213,
   "metadata": {},
   "outputs": [],
   "source": [
    "def print_stats(stats_obj):\n",
    "    '''returns report of statistics for a given model object'''\n",
    "    items = ( ('sse:', stats_obj.sse()), ('sst:', stats_obj.sst()), ('ssr:', stats_obj.ssr()),\n",
    "             ('r^2:', stats_obj.r_squared()), ('adj_r^2:', stats_obj.adj_r_squared()), ('bias:', stats_obj.bias()), ('slope:', stats_obj.slope()),('Standard Error of estimation:', stats_obj.see()))\n",
    "    for item in items:\n",
    "        print('{0:8} {1:.4f}'.format(item[0], item[1]))\n",
    "        "
   ]
  },
  {
   "cell_type": "markdown",
   "metadata": {},
   "source": [
    "# Sugar Data(Linear)"
   ]
  },
  {
   "cell_type": "code",
   "execution_count": 214,
   "metadata": {},
   "outputs": [
    {
     "name": "stdout",
     "output_type": "stream",
     "text": [
      "sse:     6284.8676\n",
      "sst:     14996.8004\n",
      "ssr:     8711.9328\n",
      "r^2:     58.0919\n",
      "adj_r^2: 57.5332\n",
      "bias:    59.9604\n",
      "slope:   -2.4614\n",
      "Standard Error of estimation: 9.0345\n"
     ]
    }
   ],
   "source": [
    "temp = Linear_regression(x_sugar, y_rating, result_sugar)\n",
    "print_stats(temp)"
   ]
  },
  {
   "cell_type": "markdown",
   "metadata": {},
   "source": [
    "# Fiber Data(Linear)"
   ]
  },
  {
   "cell_type": "code",
   "execution_count": 215,
   "metadata": {},
   "outputs": [
    {
     "name": "stdout",
     "output_type": "stream",
     "text": [
      "sse:     9879.2413\n",
      "sst:     14996.8004\n",
      "ssr:     5117.5591\n",
      "r^2:     34.1243\n",
      "adj_r^2: 33.2460\n",
      "bias:    35.2566\n",
      "slope:   3.4430\n",
      "Standard Error of estimation: 11.3270\n"
     ]
    }
   ],
   "source": [
    "temp = Linear_regression(x_fiber, y_rating, result_fiber)\n",
    "print_stats(temp)\n"
   ]
  },
  {
   "cell_type": "markdown",
   "metadata": {},
   "source": [
    "# Sugar and Fiber(Multi linear)"
   ]
  },
  {
   "cell_type": "code",
   "execution_count": 216,
   "metadata": {},
   "outputs": [
    {
     "name": "stdout",
     "output_type": "stream",
     "text": [
      "sse:     2784.7129\n",
      "sst:     14996.8004\n",
      "ssr:     12212.0875\n",
      "r^2:     81.4313\n",
      "adj_r^2: 80.9294\n",
      "bias:    52.2378\n",
      "slope:   0.6323\n",
      "Standard Error of estimation: 6.0137\n"
     ]
    }
   ],
   "source": [
    "temp = Linear_regression(x_multi_linear, y_rating, result_multi)\n",
    "print_stats(temp)"
   ]
  },
  {
   "cell_type": "markdown",
   "metadata": {},
   "source": [
    "# Sugar, Fiber and Fat(Multi linear)"
   ]
  },
  {
   "cell_type": "code",
   "execution_count": 217,
   "metadata": {},
   "outputs": [
    {
     "name": "stdout",
     "output_type": "stream",
     "text": [
      "sse:     2063.8836\n",
      "sst:     14996.8004\n",
      "ssr:     12932.9168\n",
      "r^2:     86.2378\n",
      "adj_r^2: 85.6723\n",
      "bias:    53.7061\n",
      "slope:   -2.2716\n",
      "Standard Error of estimation: 5.1772\n"
     ]
    }
   ],
   "source": [
    "temp = Linear_regression(x_multi_linear_fat, y_rating, result_multi_fat)\n",
    "print_stats(temp)"
   ]
  },
  {
   "cell_type": "markdown",
   "metadata": {},
   "source": [
    "# Sugar, Fiber and Protein(Multi linear)"
   ]
  },
  {
   "cell_type": "code",
   "execution_count": 218,
   "metadata": {},
   "outputs": [
    {
     "name": "stdout",
     "output_type": "stream",
     "text": [
      "sse:     2764.5487\n",
      "sst:     14996.8004\n",
      "ssr:     12232.2517\n",
      "r^2:     81.5657\n",
      "adj_r^2: 80.8082\n",
      "bias:    50.8558\n",
      "slope:   1.1026\n",
      "Standard Error of estimation: 5.9919\n"
     ]
    }
   ],
   "source": [
    "temp = Linear_regression(x_multi_linear_protein, y_rating, result_multi_protein)\n",
    "print_stats(temp)"
   ]
  },
  {
   "cell_type": "markdown",
   "metadata": {},
   "source": [
    "# # Sugar, Fiber and Sodium(Multi linear)"
   ]
  },
  {
   "cell_type": "code",
   "execution_count": 219,
   "metadata": {},
   "outputs": [
    {
     "name": "stdout",
     "output_type": "stream",
     "text": [
      "sse:     1169.9520\n",
      "sst:     14996.8004\n",
      "ssr:     13826.8484\n",
      "r^2:     92.1987\n",
      "adj_r^2: 91.8781\n",
      "bias:    60.9538\n",
      "slope:   0.5046\n",
      "Standard Error of estimation: 3.8980\n"
     ]
    }
   ],
   "source": [
    "temp = Linear_regression(x_multi_linear_sodium, y_rating, result_multi_sodium)\n",
    "print_stats(temp)"
   ]
  }
 ],
 "metadata": {
  "kernelspec": {
   "display_name": "Python 3",
   "language": "python",
   "name": "python3"
  },
  "language_info": {
   "codemirror_mode": {
    "name": "ipython",
    "version": 3
   },
   "file_extension": ".py",
   "mimetype": "text/x-python",
   "name": "python",
   "nbconvert_exporter": "python",
   "pygments_lexer": "ipython3",
   "version": "3.6.7"
  }
 },
 "nbformat": 4,
 "nbformat_minor": 2
}
