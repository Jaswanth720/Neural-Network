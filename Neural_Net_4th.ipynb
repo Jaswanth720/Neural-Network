{
 "cells": [
  {
   "cell_type": "markdown",
   "metadata": {},
   "source": [
    "# Import Packages\n"
   ]
  },
  {
   "cell_type": "code",
   "execution_count": 702,
   "metadata": {},
   "outputs": [],
   "source": [
    "import pandas as pd\n",
    "from sklearn.linear_model import Perceptron\n",
    "from sklearn.neural_network import MLPClassifier\n",
    "from sklearn.neural_network import MLPRegressor\n",
    "import numpy as np\n",
    "from sklearn.metrics import confusion_matrix\n",
    "import matplotlib.pyplot as plt\n",
    "import numpy as np"
   ]
  },
  {
   "cell_type": "markdown",
   "metadata": {},
   "source": [
    "# Loading Datasets"
   ]
  },
  {
   "cell_type": "code",
   "execution_count": 703,
   "metadata": {},
   "outputs": [
    {
     "data": {
      "text/html": [
       "<div>\n",
       "<style scoped>\n",
       "    .dataframe tbody tr th:only-of-type {\n",
       "        vertical-align: middle;\n",
       "    }\n",
       "\n",
       "    .dataframe tbody tr th {\n",
       "        vertical-align: top;\n",
       "    }\n",
       "\n",
       "    .dataframe thead th {\n",
       "        text-align: right;\n",
       "    }\n",
       "</style>\n",
       "<table border=\"1\" class=\"dataframe\">\n",
       "  <thead>\n",
       "    <tr style=\"text-align: right;\">\n",
       "      <th></th>\n",
       "      <th>0</th>\n",
       "      <th>1</th>\n",
       "      <th>2</th>\n",
       "      <th>3</th>\n",
       "      <th>4</th>\n",
       "      <th>5</th>\n",
       "      <th>6</th>\n",
       "      <th>7</th>\n",
       "      <th>8</th>\n",
       "      <th>9</th>\n",
       "    </tr>\n",
       "  </thead>\n",
       "  <tbody>\n",
       "    <tr>\n",
       "      <th>0</th>\n",
       "      <td>1.52777</td>\n",
       "      <td>12.64</td>\n",
       "      <td>0.00</td>\n",
       "      <td>0.67</td>\n",
       "      <td>72.02</td>\n",
       "      <td>0.06</td>\n",
       "      <td>14.40</td>\n",
       "      <td>0.00</td>\n",
       "      <td>0.00</td>\n",
       "      <td>2</td>\n",
       "    </tr>\n",
       "    <tr>\n",
       "      <th>1</th>\n",
       "      <td>1.51909</td>\n",
       "      <td>13.89</td>\n",
       "      <td>3.53</td>\n",
       "      <td>1.32</td>\n",
       "      <td>71.81</td>\n",
       "      <td>0.51</td>\n",
       "      <td>8.78</td>\n",
       "      <td>0.11</td>\n",
       "      <td>0.00</td>\n",
       "      <td>1</td>\n",
       "    </tr>\n",
       "    <tr>\n",
       "      <th>2</th>\n",
       "      <td>1.51837</td>\n",
       "      <td>13.14</td>\n",
       "      <td>2.84</td>\n",
       "      <td>1.28</td>\n",
       "      <td>72.85</td>\n",
       "      <td>0.55</td>\n",
       "      <td>9.07</td>\n",
       "      <td>0.00</td>\n",
       "      <td>0.00</td>\n",
       "      <td>1</td>\n",
       "    </tr>\n",
       "    <tr>\n",
       "      <th>3</th>\n",
       "      <td>1.52739</td>\n",
       "      <td>11.02</td>\n",
       "      <td>0.00</td>\n",
       "      <td>0.75</td>\n",
       "      <td>73.08</td>\n",
       "      <td>0.00</td>\n",
       "      <td>14.96</td>\n",
       "      <td>0.00</td>\n",
       "      <td>0.00</td>\n",
       "      <td>2</td>\n",
       "    </tr>\n",
       "    <tr>\n",
       "      <th>4</th>\n",
       "      <td>1.52020</td>\n",
       "      <td>13.98</td>\n",
       "      <td>1.35</td>\n",
       "      <td>1.63</td>\n",
       "      <td>71.76</td>\n",
       "      <td>0.39</td>\n",
       "      <td>10.56</td>\n",
       "      <td>0.00</td>\n",
       "      <td>0.18</td>\n",
       "      <td>2</td>\n",
       "    </tr>\n",
       "  </tbody>\n",
       "</table>\n",
       "</div>"
      ],
      "text/plain": [
       "         0      1     2     3      4     5      6     7     8  9\n",
       "0  1.52777  12.64  0.00  0.67  72.02  0.06  14.40  0.00  0.00  2\n",
       "1  1.51909  13.89  3.53  1.32  71.81  0.51   8.78  0.11  0.00  1\n",
       "2  1.51837  13.14  2.84  1.28  72.85  0.55   9.07  0.00  0.00  1\n",
       "3  1.52739  11.02  0.00  0.75  73.08  0.00  14.96  0.00  0.00  2\n",
       "4  1.52020  13.98  1.35  1.63  71.76  0.39  10.56  0.00  0.18  2"
      ]
     },
     "execution_count": 703,
     "metadata": {},
     "output_type": "execute_result"
    }
   ],
   "source": [
    "glass = pd.read_csv(\"glass data short.csv\", header = None)\n",
    "glass.head()"
   ]
  },
  {
   "cell_type": "markdown",
   "metadata": {},
   "source": [
    "# Data Cleaning"
   ]
  },
  {
   "cell_type": "code",
   "execution_count": 704,
   "metadata": {},
   "outputs": [],
   "source": [
    "glass = glass.rename(columns = {0: 'A',1: 'B',2: 'C',3: 'D',4: 'E',5: 'F',6: 'G',7: 'H',8: 'I',9 : 'Label'})\n",
    "\n",
    "y_train = glass['Label']\n",
    "glass = glass.drop(columns = ['Label'])\n",
    "x_train = glass"
   ]
  },
  {
   "cell_type": "markdown",
   "metadata": {},
   "source": [
    "# Defining the Model"
   ]
  },
  {
   "cell_type": "code",
   "execution_count": 705,
   "metadata": {},
   "outputs": [
    {
     "data": {
      "text/plain": [
       "MLPRegressor(activation='relu', alpha=0.001, batch_size='auto', beta_1=0.9,\n",
       "             beta_2=0.999, early_stopping=False, epsilon=1e-08,\n",
       "             hidden_layer_sizes=(2,), learning_rate='constant',\n",
       "             learning_rate_init=0.01, max_iter=1000, momentum=0.9,\n",
       "             n_iter_no_change=10, nesterovs_momentum=True, power_t=0.5,\n",
       "             random_state=9, shuffle=True, solver='adam', tol=0.0001,\n",
       "             validation_fraction=0.1, verbose=False, warm_start=False)"
      ]
     },
     "execution_count": 705,
     "metadata": {},
     "output_type": "execute_result"
    }
   ],
   "source": [
    "clf = MLPRegressor(\n",
    "    hidden_layer_sizes=(2,),  activation='relu', solver='adam', alpha=0.001, batch_size='auto',\n",
    "    learning_rate='constant', learning_rate_init=0.01, power_t=0.5, max_iter=1000, shuffle=True,\n",
    "    random_state=9, tol=0.0001, verbose=False, warm_start=False, momentum=0.9, nesterovs_momentum=True,\n",
    "    early_stopping=False, validation_fraction=0.1, beta_1=0.9, beta_2=0.999, epsilon=1e-08)\n",
    "\n",
    "clf.fit(x_train, y_train)                          "
   ]
  },
  {
   "cell_type": "markdown",
   "metadata": {},
   "source": [
    "#  R_squared based on model"
   ]
  },
  {
   "cell_type": "code",
   "execution_count": 706,
   "metadata": {},
   "outputs": [
    {
     "data": {
      "text/plain": [
       "0.8502728540558051"
      ]
     },
     "execution_count": 706,
     "metadata": {},
     "output_type": "execute_result"
    }
   ],
   "source": [
    "clf.score(x_train,y_train)"
   ]
  },
  {
   "cell_type": "code",
   "execution_count": 707,
   "metadata": {},
   "outputs": [
    {
     "data": {
      "text/html": [
       "<div>\n",
       "<style scoped>\n",
       "    .dataframe tbody tr th:only-of-type {\n",
       "        vertical-align: middle;\n",
       "    }\n",
       "\n",
       "    .dataframe tbody tr th {\n",
       "        vertical-align: top;\n",
       "    }\n",
       "\n",
       "    .dataframe thead th {\n",
       "        text-align: right;\n",
       "    }\n",
       "</style>\n",
       "<table border=\"1\" class=\"dataframe\">\n",
       "  <thead>\n",
       "    <tr style=\"text-align: right;\">\n",
       "      <th></th>\n",
       "      <th>A</th>\n",
       "      <th>B</th>\n",
       "      <th>C</th>\n",
       "      <th>D</th>\n",
       "      <th>E</th>\n",
       "      <th>F</th>\n",
       "      <th>G</th>\n",
       "      <th>H</th>\n",
       "      <th>I</th>\n",
       "      <th>predicted</th>\n",
       "    </tr>\n",
       "  </thead>\n",
       "  <tbody>\n",
       "    <tr>\n",
       "      <th>0</th>\n",
       "      <td>1.52777</td>\n",
       "      <td>12.64</td>\n",
       "      <td>0.00</td>\n",
       "      <td>0.67</td>\n",
       "      <td>72.02</td>\n",
       "      <td>0.06</td>\n",
       "      <td>14.40</td>\n",
       "      <td>0.00</td>\n",
       "      <td>0.00</td>\n",
       "      <td>1.470728</td>\n",
       "    </tr>\n",
       "    <tr>\n",
       "      <th>1</th>\n",
       "      <td>1.51909</td>\n",
       "      <td>13.89</td>\n",
       "      <td>3.53</td>\n",
       "      <td>1.32</td>\n",
       "      <td>71.81</td>\n",
       "      <td>0.51</td>\n",
       "      <td>8.78</td>\n",
       "      <td>0.11</td>\n",
       "      <td>0.00</td>\n",
       "      <td>1.525240</td>\n",
       "    </tr>\n",
       "    <tr>\n",
       "      <th>2</th>\n",
       "      <td>1.51837</td>\n",
       "      <td>13.14</td>\n",
       "      <td>2.84</td>\n",
       "      <td>1.28</td>\n",
       "      <td>72.85</td>\n",
       "      <td>0.55</td>\n",
       "      <td>9.07</td>\n",
       "      <td>0.00</td>\n",
       "      <td>0.00</td>\n",
       "      <td>1.630929</td>\n",
       "    </tr>\n",
       "    <tr>\n",
       "      <th>3</th>\n",
       "      <td>1.52739</td>\n",
       "      <td>11.02</td>\n",
       "      <td>0.00</td>\n",
       "      <td>0.75</td>\n",
       "      <td>73.08</td>\n",
       "      <td>0.00</td>\n",
       "      <td>14.96</td>\n",
       "      <td>0.00</td>\n",
       "      <td>0.00</td>\n",
       "      <td>1.470728</td>\n",
       "    </tr>\n",
       "    <tr>\n",
       "      <th>4</th>\n",
       "      <td>1.52020</td>\n",
       "      <td>13.98</td>\n",
       "      <td>1.35</td>\n",
       "      <td>1.63</td>\n",
       "      <td>71.76</td>\n",
       "      <td>0.39</td>\n",
       "      <td>10.56</td>\n",
       "      <td>0.00</td>\n",
       "      <td>0.18</td>\n",
       "      <td>2.510868</td>\n",
       "    </tr>\n",
       "  </tbody>\n",
       "</table>\n",
       "</div>"
      ],
      "text/plain": [
       "         A      B     C     D      E     F      G     H     I  predicted\n",
       "0  1.52777  12.64  0.00  0.67  72.02  0.06  14.40  0.00  0.00   1.470728\n",
       "1  1.51909  13.89  3.53  1.32  71.81  0.51   8.78  0.11  0.00   1.525240\n",
       "2  1.51837  13.14  2.84  1.28  72.85  0.55   9.07  0.00  0.00   1.630929\n",
       "3  1.52739  11.02  0.00  0.75  73.08  0.00  14.96  0.00  0.00   1.470728\n",
       "4  1.52020  13.98  1.35  1.63  71.76  0.39  10.56  0.00  0.18   2.510868"
      ]
     },
     "execution_count": 707,
     "metadata": {},
     "output_type": "execute_result"
    }
   ],
   "source": [
    "glass['predicted'] = clf.predict(x_train)\n",
    "\n",
    "glass.head()"
   ]
  },
  {
   "cell_type": "code",
   "execution_count": 708,
   "metadata": {},
   "outputs": [],
   "source": [
    "glass['predicted'] = glass['predicted'].astype(float)"
   ]
  },
  {
   "cell_type": "markdown",
   "metadata": {},
   "source": [
    "# Binning\n"
   ]
  },
  {
   "cell_type": "code",
   "execution_count": 709,
   "metadata": {},
   "outputs": [],
   "source": [
    "for index, row in glass.iterrows():\n",
    "    if (glass.iloc[index]['predicted'] < 1.5):\n",
    "        glass.iloc[index]['predicted'] = 1\n",
    "        \n",
    "    elif ((glass.iloc[index]['predicted'] >= 1.5) and (glass.iloc[index]['predicted'] <= 4.0)):\n",
    "        glass.iloc[index]['predicted'] = 2\n",
    "    \n",
    "    elif (glass.iloc[index]['predicted'] > 4):\n",
    "        glass.iloc[index]['predicted'] = 6"
   ]
  },
  {
   "cell_type": "code",
   "execution_count": 710,
   "metadata": {},
   "outputs": [],
   "source": [
    "glass['Label'] = y_train"
   ]
  },
  {
   "cell_type": "markdown",
   "metadata": {},
   "source": [
    "# SSR, SSE, R_squared\n"
   ]
  },
  {
   "cell_type": "code",
   "execution_count": 711,
   "metadata": {},
   "outputs": [],
   "source": [
    "def ssr(y_true, y_pred):\n",
    "    ssr = ((y_true - y_pred) ** 2).sum()\n",
    "    return(ssr)"
   ]
  },
  {
   "cell_type": "code",
   "execution_count": 712,
   "metadata": {},
   "outputs": [],
   "source": [
    "def ss(y_true, y_pred):\n",
    "    ss = ((y_true - y_true.mean()) ** 2).sum()\n",
    "    return(ss)"
   ]
  },
  {
   "cell_type": "code",
   "execution_count": 713,
   "metadata": {},
   "outputs": [],
   "source": [
    "def r_squared(y_true, y_pred):\n",
    "    ssr = ((y_true - y_pred) ** 2).sum()\n",
    "    ss = ((y_true - y_true.mean()) ** 2).sum()\n",
    "    r_squared = (1 - (ssr/ss))\n",
    "    return(r_squared)"
   ]
  },
  {
   "cell_type": "code",
   "execution_count": 714,
   "metadata": {},
   "outputs": [
    {
     "name": "stdout",
     "output_type": "stream",
     "text": [
      "SSR = 114.0\n",
      "ss= 520.3045977011495\n",
      "r_squared= 0.7808975732605791\n"
     ]
    }
   ],
   "source": [
    "print('SSR =', ssr(y_train, glass[\"predicted\"]))\n",
    "print('ss=', ss(y_train, glass[\"predicted\"]))\n",
    "print('r_squared=',r_squared(y_train, glass[\"predicted\"]))"
   ]
  },
  {
   "cell_type": "markdown",
   "metadata": {},
   "source": [
    "# Number of records in each class and accuracy of class assignment"
   ]
  },
  {
   "cell_type": "code",
   "execution_count": 715,
   "metadata": {},
   "outputs": [],
   "source": [
    "def ind_acc(a,dataframe):\n",
    "    correctly_classified = 0\n",
    "    total_occurances = 0\n",
    "    \n",
    "    for index, row in glass.iterrows():\n",
    "        if ((dataframe.iloc[index]['predicted'] == a) and (dataframe.iloc[index]['Label'] == a)):\n",
    "            correctly_classified += 1\n",
    "                       \n",
    "    total_occurances = (dataframe['Label'] == a).sum()\n",
    "    \n",
    "    accuracy = ((correctly_classified) /total_occurances) * 100\n",
    "    print(\"correctly predicted count of\",a, \" =\",  correctly_classified)\n",
    "    print(\"total occurances of\",a,\"=\", total_occurances)\n",
    "    print(\"accuracy of predicting\",a,\"=\", accuracy)\n",
    "    return"
   ]
  },
  {
   "cell_type": "code",
   "execution_count": 733,
   "metadata": {},
   "outputs": [
    {
     "name": "stdout",
     "output_type": "stream",
     "text": [
      "correctly predicted count of 1  = 60\n",
      "total occurances of 1 = 69\n",
      "accuracy of predicting 1 = 86.95652173913044\n",
      "None\n"
     ]
    }
   ],
   "source": [
    "accuracy_1 = ind_acc(1,glass)\n",
    "print(accuracy_1)"
   ]
  },
  {
   "cell_type": "code",
   "execution_count": 732,
   "metadata": {},
   "outputs": [
    {
     "name": "stdout",
     "output_type": "stream",
     "text": [
      "correctly predicted count of 2  = 43\n",
      "total occurances of 2 = 76\n",
      "accuracy of predicting 2 = 56.57894736842105\n",
      "None\n"
     ]
    }
   ],
   "source": [
    "accuracy_2 = ind_acc(2,glass)\n",
    "print(accuracy_2)"
   ]
  },
  {
   "cell_type": "code",
   "execution_count": 731,
   "metadata": {},
   "outputs": [
    {
     "name": "stdout",
     "output_type": "stream",
     "text": [
      "correctly predicted count of 6  = 26\n",
      "total occurances of 6 = 29\n",
      "accuracy of predicting 6 = 89.65517241379311\n",
      "None\n"
     ]
    }
   ],
   "source": [
    "accuracy_6 = ind_acc(6,glass)\n",
    "print(accuracy_6)"
   ]
  },
  {
   "cell_type": "markdown",
   "metadata": {},
   "source": [
    "# Overall accuracy"
   ]
  },
  {
   "cell_type": "code",
   "execution_count": 719,
   "metadata": {},
   "outputs": [],
   "source": [
    "def overall_accuracy(dataframe):\n",
    "    correctly_classified = 0\n",
    "    \n",
    "    for index, row in glass.iterrows():\n",
    "        if (dataframe.iloc[index]['predicted'] == dataframe.iloc[index]['Label'] ):\n",
    "            correctly_classified += 1\n",
    "                       \n",
    "    \n",
    "    accuracy = ((correctly_classified) /(len(dataframe))) * 100\n",
    "    print(\"Total count of correctly classified = \", correctly_classified)\n",
    "    print(\"Total number of examples = \",len(dataframe))\n",
    "    print(\"Overall accuracy of the model = \",accuracy)\n",
    "    return "
   ]
  },
  {
   "cell_type": "code",
   "execution_count": 730,
   "metadata": {},
   "outputs": [
    {
     "name": "stdout",
     "output_type": "stream",
     "text": [
      "Total count of correctly classified =  129\n",
      "Total number of examples =  174\n",
      "Overall accuracy of the model =  74.13793103448276\n",
      "None\n"
     ]
    }
   ],
   "source": [
    "print(overall_accuracy(glass))"
   ]
  },
  {
   "cell_type": "markdown",
   "metadata": {},
   "source": [
    "# Confusion Matrix"
   ]
  },
  {
   "cell_type": "code",
   "execution_count": 721,
   "metadata": {},
   "outputs": [],
   "source": [
    "def classify(a,b,c,dataframe):\n",
    "    correctly_classified = 0\n",
    "    total_occurances = 0\n",
    "    count_1 = 0\n",
    "    count_2 = 0\n",
    "    count_3 = 0\n",
    "    \n",
    "    for index, row in glass.iterrows():\n",
    "        if ((dataframe.iloc[index]['Label'] == a)):\n",
    "            total_occurances += 1\n",
    "            \n",
    "            if ((dataframe.iloc[index]['Label'] == a) and (dataframe.iloc[index]['predicted'] == a)):\n",
    "                count_1 +=1\n",
    "            \n",
    "            \n",
    "            if ((dataframe.iloc[index]['Label'] == a) and (dataframe.iloc[index]['predicted'] == b)):\n",
    "                count_2 +=1\n",
    "            \n",
    "            \n",
    "            if ((dataframe.iloc[index]['Label'] == a) and (dataframe.iloc[index]['predicted'] == c)):\n",
    "                count_3 +=1\n",
    "            \n",
    "    print(\"in class \",a, \"assigned class \",a,\"=\", count_1)\n",
    "    print(\"in class \",a, \"assigned class \",b,\"=\", count_2)\n",
    "    print(\"in class \",a, \"assigned class \",c,\"=\", count_3)\n",
    "    print(\"total predicted\",a, \"=\",total_occurances)\n",
    "    return"
   ]
  },
  {
   "cell_type": "code",
   "execution_count": 729,
   "metadata": {},
   "outputs": [
    {
     "name": "stdout",
     "output_type": "stream",
     "text": [
      "in class  1 assigned class  1 = 60\n",
      "in class  1 assigned class  2 = 9\n",
      "in class  1 assigned class  6 = 0\n",
      "total predicted 1 = 69\n",
      "None\n"
     ]
    }
   ],
   "source": [
    "print(classify(1,2,6,glass))"
   ]
  },
  {
   "cell_type": "code",
   "execution_count": 728,
   "metadata": {},
   "outputs": [
    {
     "name": "stdout",
     "output_type": "stream",
     "text": [
      "in class  2 assigned class  2 = 43\n",
      "in class  2 assigned class  1 = 32\n",
      "in class  2 assigned class  6 = 1\n",
      "total predicted 2 = 76\n",
      "None\n"
     ]
    }
   ],
   "source": [
    "print(classify(2,1,6,glass))"
   ]
  },
  {
   "cell_type": "code",
   "execution_count": 727,
   "metadata": {},
   "outputs": [
    {
     "name": "stdout",
     "output_type": "stream",
     "text": [
      "in class  6 assigned class  6 = 26\n",
      "in class  6 assigned class  1 = 1\n",
      "in class  6 assigned class  2 = 2\n",
      "total predicted 6 = 29\n",
      "None\n"
     ]
    }
   ],
   "source": [
    "print(classify(6,1,2,glass))"
   ]
  },
  {
   "cell_type": "code",
   "execution_count": 725,
   "metadata": {},
   "outputs": [],
   "source": [
    "def confusion(y_true,y_pred):\n",
    "    matrix = np.transpose(confusion_matrix(y_train, glass['predicted'], labels=[1, 2, 6]))\n",
    "    return(matrix)"
   ]
  },
  {
   "cell_type": "code",
   "execution_count": 726,
   "metadata": {},
   "outputs": [
    {
     "name": "stdout",
     "output_type": "stream",
     "text": [
      "[[60 32  1]\n",
      " [ 9 43  2]\n",
      " [ 0  1 26]]\n"
     ]
    }
   ],
   "source": [
    "print(confusion(y_train, glass[\"predicted\"]))"
   ]
  }
 ],
 "metadata": {
  "kernelspec": {
   "display_name": "Python 3",
   "language": "python",
   "name": "python3"
  },
  "language_info": {
   "codemirror_mode": {
    "name": "ipython",
    "version": 3
   },
   "file_extension": ".py",
   "mimetype": "text/x-python",
   "name": "python",
   "nbconvert_exporter": "python",
   "pygments_lexer": "ipython3",
   "version": "3.7.3"
  }
 },
 "nbformat": 4,
 "nbformat_minor": 2
}
